{
 "cells": [
  {
   "cell_type": "code",
   "execution_count": 1,
   "metadata": {},
   "outputs": [],
   "source": [
    "#! python2\n",
    "# -*- coding: utf-8 -*-\n",
    "import pprint\n",
    "import pymongo\n",
    "import datetime\n",
    "import numpy as np\n",
    "from pymongo import MongoClient\n",
    "\n",
    "from scipy import spatial\n",
    "\n",
    "import pylab\n",
    "\n",
    "import os\n",
    "import progressbar\n",
    "\n",
    "db_name = 'twitter'\n",
    "col_name = 'replab'"
   ]
  },
  {
   "cell_type": "code",
   "execution_count": 2,
   "metadata": {},
   "outputs": [],
   "source": [
    "from sklearn import metrics\n",
    "from sklearn.cluster import DBSCAN\n",
    "# from sklearn.datasets.samples_generator import make_blobs\n",
    "from sklearn.preprocessing import StandardScaler\n",
    "from sklearn.feature_extraction.text import TfidfVectorizer, CountVectorizer\n",
    "from sklearn.decomposition import LatentDirichletAllocation, NMF\n",
    "from sklearn.metrics.pairwise import cosine_similarity\n",
    "\n",
    "from igraph import *\n",
    "import igraph\n",
    "import math\n",
    "from operator import itemgetter\n",
    "\n"
   ]
  },
  {
   "cell_type": "code",
   "execution_count": 3,
   "metadata": {},
   "outputs": [],
   "source": [
    "class MyPrettyPrinter(pprint.PrettyPrinter):\n",
    "    def format(self, object, context, maxlevels, level):\n",
    "        if isinstance(object, unicode):\n",
    "            return (object.encode('thai'), True, False)\n",
    "        return pprint.PrettyPrinter.format(self, object, context, maxlevels, level)\n",
    "\n",
    "def go_print( input ):\n",
    "    MyPrettyPrinter().pprint(input)\n",
    "    # ppp = pprint.PrettyPrinter(indent=4)\n",
    "    # ppp.pprint(input)\n",
    "    return;\n",
    "\n",
    "def get_midnight(time):\n",
    "    return time.replace(minute=0, hour=0, second=0, microsecond=0)\n",
    "\n",
    "def get_time_gap(time,hour_gap=1,min_gap=1):\n",
    "    h = time.hour\n",
    "    m = time.minute\n",
    "    o_h = h/hour_gap*hour_gap\n",
    "    o_m = m/min_gap*min_gap\n",
    "    return time.replace(hour=o_h, minute=o_m, second=0, microsecond=0)\n",
    "\n",
    "def get_week_year(time):\n",
    "    return tuple([time.isocalendar()[0], time.isocalendar()[1]])\n",
    "\n",
    "def get_thai_midnight(time):\n",
    "    out = time + datetime.timedelta(hours=7)\n",
    "    out = out.replace(minute=0, hour=0, second=0, microsecond=0) - datetime.timedelta(hours=7)\n",
    "    return out"
   ]
  },
  {
   "cell_type": "code",
   "execution_count": null,
   "metadata": {},
   "outputs": [],
   "source": []
  },
  {
   "cell_type": "code",
   "execution_count": 4,
   "metadata": {},
   "outputs": [
    {
     "name": "stderr",
     "output_type": "stream",
     "text": [
      "[########################################################################] 100%\n"
     ]
    }
   ],
   "source": [
    "if __name__ == '__main__':\n",
    "    client = MongoClient()\n",
    "    db = client[db_name]\n",
    "\n",
    "    result = db[col_name].create_index([('ts', pymongo.ASCENDING)])\n",
    "    cursor = db[col_name].find({'ts':{'$gte':1338508800}}).sort([('ts', pymongo.ASCENDING)])\n",
    "    \n",
    "\n",
    "    entity = {}\n",
    "    count = {}\n",
    "    count_wk = {}\n",
    "    \n",
    "    topic_per_time = {}\n",
    "\n",
    "    bar = progressbar.ProgressBar(maxval=cursor.count()+1, widgets=[progressbar.Bar('#', '[', ']'), ' ', progressbar.Percentage()])\n",
    "    bar.start()\n",
    "    data=1\n",
    "    for doc in cursor:\n",
    "        data += 1\n",
    "        bar.update(data)\n",
    "        \n",
    "        ts = doc['ts']\n",
    "        entity_id = doc['entity_id']\n",
    "        topic = doc['topic']\n",
    "        datetime_object = datetime.datetime.fromtimestamp(ts)\n",
    "        time_gap = get_midnight(datetime_object)\n",
    "        \n",
    "        if not entity.has_key(entity_id):\n",
    "            entity[entity_id] = {}\n",
    "        if not entity[entity_id].has_key(topic):\n",
    "            entity[entity_id][topic] = {}\n",
    "        if not time_gap in entity[entity_id][topic]:\n",
    "            entity[entity_id][topic][time_gap] = 0\n",
    "        entity[entity_id][topic][time_gap] += 1\n",
    "        \n",
    "        if not topic_per_time.has_key(time_gap):\n",
    "            topic_per_time[time_gap] = {}\n",
    "        if not topic_per_time[time_gap].has_key(topic):\n",
    "             topic_per_time[time_gap][topic] = 0\n",
    "        topic_per_time[time_gap][topic] += 1\n",
    "        \n",
    "        time_gap = get_midnight(datetime_object) \n",
    "        if not count.has_key(time_gap):\n",
    "            count[time_gap] = 0\n",
    "        count[time_gap] += 1\n",
    "        \n",
    "        time_gap = get_week_year(datetime_object) \n",
    "        if not count_wk.has_key(time_gap):\n",
    "            count_wk[time_gap] = 0\n",
    "        count_wk[time_gap] += 1\n",
    "        \n",
    "        \n",
    "        \n",
    "    bar.finish()\n",
    "#     print len(date)"
   ]
  },
  {
   "cell_type": "code",
   "execution_count": 5,
   "metadata": {},
   "outputs": [
    {
     "name": "stdout",
     "output_type": "stream",
     "text": [
      "avg per day\t:  375\n",
      "avg per week\t:  2509\n",
      "max per day\t:  2341\n",
      "max per week\t:  11828\n"
     ]
    }
   ],
   "source": [
    "print 'avg per day\\t: ',sum(count.values())/len(count)\n",
    "print 'avg per week\\t: ',sum(count_wk.values())/len(count_wk)\n",
    "\n",
    "print 'max per day\\t: ',max(count.values())\n",
    "print 'max per week\\t: ',max(count_wk.values())"
   ]
  },
  {
   "cell_type": "code",
   "execution_count": 7,
   "metadata": {},
   "outputs": [],
   "source": [
    "test_data = []\n",
    "for day, topic_count in topic_per_time.items():\n",
    "    for v in topic_count.values():\n",
    "        test_data.append(v)"
   ]
  },
  {
   "cell_type": "code",
   "execution_count": 10,
   "metadata": {},
   "outputs": [
    {
     "data": {
      "image/png": "[encoded data removed]",
      "text/plain": [
       "<matplotlib.figure.Figure at 0x26b53550>"
      ]
     },
     "metadata": {},
     "output_type": "display_data"
    },
    {
     "name": "stdout",
     "output_type": "stream",
     "text": [
      "2\n",
      "Counter({1: 22153, 2: 5166, 3: 1975, 4: 950, 5: 539, 6: 308, 7: 230, 8: 164, 9: 102, 10: 91, 11: 61, 12: 46, 14: 42, 13: 40, 15: 29, 18: 28, 17: 20, 20: 19, 19: 17, 16: 16, 21: 16, 23: 13, 25: 10, 29: 9, 30: 9, 22: 8, 26: 7, 28: 7, 37: 7, 24: 6, 33: 6, 34: 6, 35: 6, 38: 6, 27: 5, 40: 5, 31: 4, 36: 4, 39: 4, 46: 4, 48: 4, 51: 4, 63: 4, 74: 4, 92: 4, 32: 3, 45: 3, 49: 3, 52: 3, 57: 3, 67: 3, 41: 2, 43: 2, 44: 2, 50: 2, 53: 2, 54: 2, 55: 2, 60: 2, 62: 2, 68: 2, 71: 2, 73: 2, 75: 2, 77: 2, 84: 2, 85: 2, 88: 2, 100: 2, 102: 2, 105: 2, 120: 2, 133: 2, 159: 2, 179: 2, 361: 2, 42: 1, 47: 1, 61: 1, 64: 1, 65: 1, 69: 1, 72: 1, 78: 1, 79: 1, 82: 1, 90: 1, 97: 1, 99: 1, 107: 1, 112: 1, 115: 1, 119: 1, 126: 1, 130: 1, 131: 1, 132: 1, 134: 1, 138: 1, 139: 1, 142: 1, 143: 1, 146: 1, 148: 1, 149: 1, 156: 1, 158: 1, 162: 1, 172: 1, 176: 1, 181: 1, 182: 1, 191: 1, 193: 1, 198: 1, 206: 1, 222: 1, 225: 1, 228: 1, 232: 1, 240: 1, 242: 1, 262: 1, 270: 1, 284: 1, 293: 1, 314: 1, 328: 1, 331: 1, 337: 1, 340: 1, 353: 1, 357: 1, 371: 1, 385: 1, 394: 1, 413: 1, 414: 1, 416: 1, 441: 1, 442: 1})\n"
     ]
    }
   ],
   "source": [
    "import matplotlib.pyplot as plt\n",
    "plt.plot(sorted(test_data))\n",
    "plt.ylabel('f-topic/time')\n",
    "plt.show()\n",
    "print (sum(test_data)/len(test_data))\n",
    "from collections import Counter\n",
    "print Counter(test_data)"
   ]
  },
  {
   "cell_type": "code",
   "execution_count": 17,
   "metadata": {},
   "outputs": [
    {
     "data": {
      "image/png": "[encoded data removed]",
      "text/plain": [
       "<matplotlib.figure.Figure at 0x2617cdd8>"
      ]
     },
     "metadata": {},
     "output_type": "display_data"
    }
   ],
   "source": [
    "dt = Counter(test_data)\n",
    "plt.plot(dt.keys(),dt.values())\n",
    "plt.axis([0, 40, 0, 500])\n",
    "plt.show()"
   ]
  },
  {
   "cell_type": "code",
   "execution_count": null,
   "metadata": {},
   "outputs": [],
   "source": [
    "\n",
    "ts = 1353459600\n",
    "ts = 1349689576\n",
    "datetime_o = datetime.datetime.fromtimestamp(ts)\n",
    "print get_midnight(datetime_o)\n",
    "for k,v in topic_per_time[get_midnight(datetime_o)].items():\n",
    "    if v>=3:\n",
    "        print k,v"
   ]
  },
  {
   "cell_type": "code",
   "execution_count": null,
   "metadata": {},
   "outputs": [],
   "source": [
    "for day,num in sorted(count.items() ):\n",
    "    print day,num"
   ]
  },
  {
   "cell_type": "code",
   "execution_count": null,
   "metadata": {},
   "outputs": [],
   "source": [
    "for time,topic_set in sorted(topic_per_time.items()):\n",
    "    print topic_set"
   ]
  },
  {
   "cell_type": "code",
   "execution_count": null,
   "metadata": {
    "scrolled": true
   },
   "outputs": [],
   "source": [
    "for k,v in entity.items():\n",
    "#     print k,len(v)\n",
    "    print '\\n\\n\\n++++++'\n",
    "    for topic,time in v.items():\n",
    "#         if len(time) > 5 and topic != '':\n",
    "#         if topic != '':\n",
    "        if sum(time.values()) > 10 and max(time.values()) >= 3 and topic != '':\n",
    "            print topic,time.values()"
   ]
  },
  {
   "cell_type": "code",
   "execution_count": null,
   "metadata": {},
   "outputs": [],
   "source": [
    "for k,v in entity.items():\n",
    "#     print k,len(v)\n",
    "    print '\\n\\n\\n++++++'\n",
    "    for topic,time in v.items():\n",
    "#         if len(time) > 5 and topic != '':\n",
    "#         if topic != '':\n",
    "        if topic == \"Gossip: JL and her kids\":\n",
    "            print time"
   ]
  },
  {
   "cell_type": "code",
   "execution_count": null,
   "metadata": {},
   "outputs": [],
   "source": []
  }
 ],
 "metadata": {
  "kernelspec": {
   "display_name": "Python 2",
   "language": "python",
   "name": "python2"
  },
  "language_info": {
   "codemirror_mode": {
    "name": "ipython",
    "version": 2
   },
   "file_extension": ".py",
   "mimetype": "text/x-python",
   "name": "python",
   "nbconvert_exporter": "python",
   "pygments_lexer": "ipython2",
   "version": "2.7.13"
  }
 },
 "nbformat": 4,
 "nbformat_minor": 2
}
