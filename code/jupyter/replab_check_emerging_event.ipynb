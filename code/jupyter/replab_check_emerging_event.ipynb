{
 "cells": [
  {
   "cell_type": "code",
   "execution_count": 45,
   "metadata": {},
   "outputs": [],
   "source": [
    "#! python2\n",
    "# -*- coding: utf-8 -*-\n",
    "import pprint\n",
    "import pymongo\n",
    "import datetime\n",
    "import numpy as np\n",
    "from pymongo import MongoClient\n",
    "\n",
    "from scipy import spatial\n",
    "\n",
    "import pylab\n",
    "\n",
    "import os\n",
    "\n",
    "import progressbar\n",
    "\n",
    "db_name = 'twitter'\n",
    "predict_col_name = 'event_list'\n",
    "true_col_name = 'after_process_replab'\n",
    "\n",
    "event_size = 15"
   ]
  },
  {
   "cell_type": "code",
   "execution_count": 46,
   "metadata": {},
   "outputs": [],
   "source": [
    "from sklearn import metrics\n",
    "from sklearn.cluster import DBSCAN\n",
    "from sklearn.metrics import accuracy_score\n",
    "from sklearn.preprocessing import StandardScaler\n",
    "from sklearn.feature_extraction.text import TfidfVectorizer, CountVectorizer\n",
    "from sklearn.decomposition import LatentDirichletAllocation, NMF\n",
    "from sklearn.metrics.pairwise import cosine_similarity\n",
    "\n",
    "from igraph import *\n",
    "import igraph\n",
    "import math\n",
    "from operator import itemgetter"
   ]
  },
  {
   "cell_type": "code",
   "execution_count": 47,
   "metadata": {},
   "outputs": [],
   "source": [
    "def get_sim(doc_a,doc_b):\n",
    "    return 1 - spatial.distance.cosine(doc_a, doc_b)"
   ]
  },
  {
   "cell_type": "code",
   "execution_count": 48,
   "metadata": {},
   "outputs": [],
   "source": [
    "def get_midnight(time):\n",
    "    return time.replace(minute=0, hour=0, second=0, microsecond=0)"
   ]
  },
  {
   "cell_type": "code",
   "execution_count": 49,
   "metadata": {},
   "outputs": [
    {
     "name": "stderr",
     "output_type": "stream",
     "text": [
      "[########################################################################] 100%\n"
     ]
    }
   ],
   "source": [
    "if __name__ == '__main__':\n",
    "    client = MongoClient()\n",
    "    db = client[db_name]\n",
    "\n",
    "    result = db[predict_col_name].create_index([('ts', pymongo.ASCENDING)])\n",
    "    cursor = db[predict_col_name].find({})\n",
    "\n",
    "    bar = progressbar.ProgressBar(maxval=cursor.count()+1, widgets=[progressbar.Bar('#', '[', ']'), ' ', progressbar.Percentage()])\n",
    "    bar.start()\n",
    "    data=1\n",
    "    predict_event = {}\n",
    "    predict_event_id = {}\n",
    "    alltime = []\n",
    "    for doc in cursor:\n",
    "        data += 1\n",
    "        bar.update(data)\n",
    "        \n",
    "        date = doc['time']\n",
    "        description = doc['description']\n",
    "        group_id = doc['group_id']\n",
    "        if group_id > 0:\n",
    "            true_name = doc['true_name']\n",
    "            tweet_id =doc['tweet_id']\n",
    "            size = doc['size']\n",
    "            past = doc['past']\n",
    "\n",
    "#             print size,past\n",
    "            if not predict_event.has_key(date):\n",
    "                predict_event[date] = {}\n",
    "                predict_event_id[date] = {}\n",
    "            if not predict_event[date].has_key(description):\n",
    "                predict_event[date][description] = []\n",
    "                predict_event_id[date][description] = []\n",
    "            if size >= event_size and len(past) == 0:\n",
    "                predict_event[date][description].append(true_name)\n",
    "                predict_event_id[date][description].extend(tweet_id)\n",
    "        \n",
    "        alltime.append(date)\n",
    "    \n",
    "    alltime = set(alltime)\n",
    "        \n",
    "    bar.finish()"
   ]
  },
  {
   "cell_type": "code",
   "execution_count": 50,
   "metadata": {},
   "outputs": [
    {
     "name": "stderr",
     "output_type": "stream",
     "text": [
      "[########################################################################] 100%\n"
     ]
    }
   ],
   "source": [
    "if __name__ == '__main__':\n",
    "    client = MongoClient()\n",
    "    db = client[db_name]\n",
    "\n",
    "    result = db[true_col_name].create_index([('ts', pymongo.ASCENDING)])\n",
    "    cursor = db[true_col_name].find({'ts':{'$gte':1338508800}}).sort([('ts', pymongo.ASCENDING)])\n",
    "    \n",
    "    all_event = {}\n",
    "    all_event_id = {}\n",
    "    true_event_id_2 = {}\n",
    "\n",
    "    bar = progressbar.ProgressBar(maxval=cursor.count()+1, widgets=[progressbar.Bar('#', '[', ']'), ' ', progressbar.Percentage()])\n",
    "    bar.start()\n",
    "    data=1\n",
    "    for doc in cursor:\n",
    "        data += 1\n",
    "        bar.update(data)\n",
    "        \n",
    "        ts = doc['ts']\n",
    "        entity_id = doc['entity_id']\n",
    "        topic = doc['topic']\n",
    "        tweet_id = doc['tweet_id']\n",
    "        topic_dense = doc['topic_dense']\n",
    "        datetime_object = datetime.datetime.fromtimestamp(ts)\n",
    "        time_gap = get_midnight(datetime_object)\n",
    "        \n",
    "        if not all_event.has_key(time_gap):\n",
    "            all_event[time_gap] = []\n",
    "            all_event_id[time_gap] = {}\n",
    "            true_event_id_2[time_gap] = []\n",
    "        true_event_id_2[time_gap].append(tweet_id)\n",
    "#         if tweet_id =='208604422492786688':\n",
    "#             print 'in',time_gap\n",
    "        if topic_dense == 1:\n",
    "#         if True:\n",
    "            if not (topic in all_event[time_gap]):\n",
    "                 all_event[time_gap].append(topic)\n",
    "            if not (all_event_id[time_gap].has_key(topic)):\n",
    "                all_event_id[time_gap][topic] = []\n",
    "            all_event_id[time_gap][topic].append(tweet_id)\n",
    "\n",
    "        \n",
    "    bar.finish()\n",
    "#     print len(date)"
   ]
  },
  {
   "cell_type": "code",
   "execution_count": 51,
   "metadata": {},
   "outputs": [],
   "source": [
    "starttime = datetime.datetime(2012, 6, 1)\n",
    "usetime = []\n",
    "true_event = {}\n",
    "true_event_id = {}\n",
    "\n",
    "\n",
    "for day in sorted(alltime):\n",
    "    if day >= starttime:\n",
    "        usetime.append(day)\n",
    "        true_event[day] = []\n",
    "        true_event_id[day] = []\n",
    "\n",
    "for now_time, event_list in all_event.items():\n",
    "    old_time = now_time - datetime.timedelta(days=1)\n",
    "    for event in event_list:\n",
    "        if all_event.has_key(old_time):\n",
    "            if not (event in all_event[old_time]):\n",
    "                if  true_event.has_key(now_time):\n",
    "                    true_event[now_time].append(event)\n",
    "                    true_event_id[now_time].extend( all_event_id[now_time][event] )\n",
    "        else:\n",
    "            if  true_event.has_key(now_time):\n",
    "                true_event[now_time].append(event)\n",
    "                true_event_id[now_time].extend( all_event_id[now_time][event] )"
   ]
  },
  {
   "cell_type": "code",
   "execution_count": 52,
   "metadata": {},
   "outputs": [],
   "source": [
    "# Recall = How many relevantitems are selected?\n",
    "# Precision = How many selecteditems are relevant?\n",
    "def cal_recall_precision(true, predict):\n",
    "    recall, precision = 0,0\n",
    "    if len(true) == 0 and len(predict) == 0:\n",
    "        recall = 1\n",
    "        precision = 1\n",
    "    elif len(true) == 0:\n",
    "        recall = 0\n",
    "        precision = 0\n",
    "    elif len(predict) == 0:\n",
    "        recall = 0\n",
    "        precision = 1\n",
    "    else:\n",
    "        r = 0\n",
    "        p = 0\n",
    "        for x in true:\n",
    "            if x in predict:\n",
    "                r += 1\n",
    "        recall = 1.0*r/len(true)\n",
    "\n",
    "        for x in predict:\n",
    "            if x in true:\n",
    "                p += 1\n",
    "\n",
    "        precision = 1.0*p/len(predict)\n",
    "    \n",
    "    return recall,precision"
   ]
  },
  {
   "cell_type": "code",
   "execution_count": 53,
   "metadata": {},
   "outputs": [
    {
     "name": "stderr",
     "output_type": "stream",
     "text": [
      "[                                                                        ]   0%\r",
      "[#                                                                       ]   1%\r",
      "[##                                                                      ]   2%\r",
      "[###                                                                     ]   4%\r",
      "[####                                                                    ]   5%\r",
      "[#####                                                                   ]   7%\r",
      "[######                                                                  ]   8%\r",
      "[#######                                                                 ]  10%\r",
      "[########                                                                ]  11%\r",
      "[#########                                                               ]  13%\r",
      "[##########                                                              ]  14%\r",
      "[###########                                                             ]  16%\r",
      "[############                                                            ]  17%\r",
      "[#############                                                           ]  19%\r",
      "[##############                                                          ]  20%\r",
      "[###############                                                         ]  22%\r",
      "[#################                                                       ]  23%\r",
      "[##################                                                      ]  25%\r",
      "[###################                                                     ]  26%\r",
      "[####################                                                    ]  28%\r",
      "[#####################                                                   ]  29%\r",
      "[######################                                                  ]  31%\r",
      "[#######################                                                 ]  32%\r",
      "[########################                                                ]  33%\r",
      "[#########################                                               ]  35%\r",
      "[##########################                                              ]  36%\r",
      "[###########################                                             ]  38%\r",
      "[############################                                            ]  39%\r",
      "[#############################                                           ]  41%\r",
      "[##############################                                          ]  42%\r",
      "[###############################                                         ]  44%\r",
      "[################################                                        ]  45%\r",
      "[##################################                                      ]  47%\r",
      "[###################################                                     ]  48%\r",
      "[####################################                                    ]  50%\r",
      "[#####################################                                   ]  51%\r",
      "[######################################                                  ]  53%\r",
      "[#######################################                                 ]  54%\r",
      "[########################################                                ]  56%\r",
      "[#########################################                               ]  57%\r",
      "[##########################################                              ]  59%\r",
      "[###########################################                             ]  60%\r",
      "[############################################                            ]  62%\r",
      "[#############################################                           ]  63%\r",
      "[##############################################                          ]  65%\r",
      "[###############################################                         ]  66%\r",
      "[################################################                        ]  67%\r",
      "[##################################################                      ]  69%\r",
      "[###################################################                     ]  70%\r",
      "[####################################################                    ]  72%\r",
      "[#####################################################                   ]  73%\r",
      "[######################################################                  ]  75%\r",
      "[#######################################################                 ]  76%\r",
      "[########################################################                ]  78%\r",
      "[#########################################################               ]  79%\r",
      "[##########################################################              ]  81%\r",
      "[###########################################################             ]  82%\r",
      "[############################################################            ]  84%\r",
      "[#############################################################           ]  85%\r",
      "[##############################################################          ]  87%\r",
      "[###############################################################         ]  88%\r",
      "[################################################################        ]  90%\r",
      "[#################################################################       ]  91%\r",
      "[###################################################################     ]  93%\r",
      "[####################################################################    ]  94%\r",
      "[#####################################################################   ]  96%\r",
      "[######################################################################  ]  97%\r",
      "[####################################################################### ]  99%\r",
      "[########################################################################] 100%\r\n"
     ]
    }
   ],
   "source": [
    "all_score = {}\n",
    "all_score_id = {}\n",
    "bar = progressbar.ProgressBar(maxval=len(usetime)+1, widgets=[progressbar.Bar('#', '[', ']'), ' ', progressbar.Percentage()])\n",
    "bar.start()\n",
    "data=1\n",
    "for day in usetime:\n",
    "    data += 1\n",
    "    bar.update(data)\n",
    "    for description,d_event in predict_event[day].items():\n",
    "        if not all_score.has_key(description):\n",
    "            all_score[description] = {}\n",
    "            all_score[description]['recall'] = []\n",
    "            all_score[description]['precision'] = []\n",
    "            \n",
    "            all_score_id[description] = {}\n",
    "            all_score_id[description]['recall'] = []\n",
    "            all_score_id[description]['precision'] = []\n",
    "        recall, precision = cal_recall_precision(true_event[day], d_event)\n",
    "        all_score[description]['recall'].append(recall)\n",
    "        all_score[description]['precision'].append(precision)\n",
    "#         print true_event[day]\n",
    "#         print d_event\n",
    "\n",
    "#         print '\\n\\n'\n",
    "        \n",
    "        recall, precision = cal_recall_precision(true_event_id[day], predict_event_id[day][description])\n",
    "        all_score_id[description]['recall'].append(recall)\n",
    "        all_score_id[description]['precision'].append(precision)\n",
    "#         print description\n",
    "#         print len(true_event_id[day])\n",
    "#         print len(predict_event_id[day][description])\n",
    "#         print ''\n",
    "bar.finish()"
   ]
  },
  {
   "cell_type": "code",
   "execution_count": 54,
   "metadata": {
    "scrolled": true
   },
   "outputs": [
    {
     "name": "stdout",
     "output_type": "stream",
     "text": [
      "Affinity Propagation recall 0.230328836817\n",
      "Affinity Propagation precision 0.21997646693\n",
      "\n",
      "DBSCAN recall 0.413198842559\n",
      "DBSCAN precision 0.568723841112\n",
      "\n",
      "Markov Cluster recall 0.353924558159\n",
      "Markov Cluster precision 0.308296225287\n",
      "\n"
     ]
    }
   ],
   "source": [
    "for description,score_data in all_score.items():\n",
    "    for score_key,score in score_data.items():\n",
    "        print description, score_key, sum(score)/len(score)\n",
    "    print ''"
   ]
  },
  {
   "cell_type": "code",
   "execution_count": null,
   "metadata": {},
   "outputs": [],
   "source": [
    "# >=10 and no past using true_name\n",
    "# Affinity Propagation recall 0.230328836817\n",
    "# Affinity Propagation precision 0.21997646693\n",
    "\n",
    "# DBSCAN recall 0.413198842559\n",
    "# DBSCAN precision 0.568723841112\n",
    "\n",
    "# Markov Cluster recall 0.353924558159\n",
    "# Markov Cluster precision 0.308296225287"
   ]
  },
  {
   "cell_type": "code",
   "execution_count": 55,
   "metadata": {},
   "outputs": [],
   "source": [
    "# >=15 and no past using true_name\n",
    "# Affinity Propagation recall 0.279718864744\n",
    "# Affinity Propagation precision 0.322364305979\n",
    "\n",
    "# DBSCAN recall 0.59031825002\n",
    "# DBSCAN precision 0.715233357024\n",
    "\n",
    "# Markov Cluster recall 0.457319660537\n",
    "# Markov Cluster precision 0.423584824142"
   ]
  },
  {
   "cell_type": "code",
   "execution_count": 56,
   "metadata": {},
   "outputs": [
    {
     "name": "stdout",
     "output_type": "stream",
     "text": [
      "Affinity Propagation recall 0.245800261178\n",
      "Affinity Propagation precision 0.20547564428\n",
      "\n",
      "DBSCAN recall 0.406399695626\n",
      "DBSCAN precision 0.566916380388\n",
      "\n",
      "Markov Cluster recall 0.401920920727\n",
      "Markov Cluster precision 0.30475288307\n",
      "\n"
     ]
    }
   ],
   "source": [
    "for description,score_data in all_score_id.items():\n",
    "    for score_key,score in score_data.items():\n",
    "        print description, score_key, sum(score)/len(score)\n",
    "#         print score\n",
    "    print ''"
   ]
  },
  {
   "cell_type": "code",
   "execution_count": null,
   "metadata": {},
   "outputs": [],
   "source": [
    "# >=10 and no past using tweet_id\n",
    "# Affinity Propagation recall 0.245800261178\n",
    "# Affinity Propagation precision 0.20547564428\n",
    "\n",
    "# DBSCAN recall 0.406399695626\n",
    "# DBSCAN precision 0.566916380388\n",
    "\n",
    "# Markov Cluster recall 0.401920920727\n",
    "# Markov Cluster precision 0.30475288307"
   ]
  },
  {
   "cell_type": "code",
   "execution_count": 44,
   "metadata": {},
   "outputs": [],
   "source": [
    "# >=15 and no past using tweet_id\n",
    "# Affinity Propagation recall 0.288697136985\n",
    "# Affinity Propagation precision 0.315978275562\n",
    "\n",
    "# DBSCAN recall 0.589171812469\n",
    "# DBSCAN precision 0.713648269949\n",
    "\n",
    "# Markov Cluster recall 0.474449714173\n",
    "# Markov Cluster precision 0.414411697168"
   ]
  },
  {
   "cell_type": "code",
   "execution_count": null,
   "metadata": {
    "scrolled": true
   },
   "outputs": [],
   "source": []
  },
  {
   "cell_type": "code",
   "execution_count": null,
   "metadata": {},
   "outputs": [],
   "source": []
  }
 ],
 "metadata": {
  "kernelspec": {
   "display_name": "Python 2",
   "language": "python",
   "name": "python2"
  },
  "language_info": {
   "codemirror_mode": {
    "name": "ipython",
    "version": 2
   },
   "file_extension": ".py",
   "mimetype": "text/x-python",
   "name": "python",
   "nbconvert_exporter": "python",
   "pygments_lexer": "ipython2",
   "version": "2.7.13"
  }
 },
 "nbformat": 4,
 "nbformat_minor": 2
}
