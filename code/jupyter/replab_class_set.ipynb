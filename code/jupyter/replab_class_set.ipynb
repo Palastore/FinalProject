{
 "cells": [
  {
   "cell_type": "code",
   "execution_count": 1,
   "metadata": {},
   "outputs": [],
   "source": [
    "#! python2\n",
    "# -*- coding: utf-8 -*-\n",
    "import pprint\n",
    "import pymongo\n",
    "import datetime\n",
    "import numpy as np\n",
    "from pymongo import MongoClient\n",
    "\n",
    "from scipy import spatial\n",
    "\n",
    "import pylab\n",
    "\n",
    "import os\n",
    "\n",
    "import progressbar\n",
    "\n",
    "db_name = 'twitter'\n",
    "col_name = 'after_process_replab'"
   ]
  },
  {
   "cell_type": "code",
   "execution_count": 2,
   "metadata": {},
   "outputs": [],
   "source": [
    "from sklearn import metrics\n",
    "from sklearn.cluster import DBSCAN\n",
    "# from sklearn.datasets.samples_generator import make_blobs\n",
    "from sklearn.preprocessing import StandardScaler\n",
    "from sklearn.feature_extraction.text import TfidfVectorizer, CountVectorizer\n",
    "from sklearn.decomposition import LatentDirichletAllocation, NMF\n",
    "from sklearn.metrics.pairwise import cosine_similarity\n",
    "\n",
    "from igraph import *\n",
    "import igraph\n",
    "import math\n",
    "from operator import itemgetter\n",
    "\n"
   ]
  },
  {
   "cell_type": "code",
   "execution_count": 3,
   "metadata": {},
   "outputs": [],
   "source": [
    "class MyPrettyPrinter(pprint.PrettyPrinter):\n",
    "    def format(self, object, context, maxlevels, level):\n",
    "        if isinstance(object, unicode):\n",
    "            return (object.encode('thai'), True, False)\n",
    "        return pprint.PrettyPrinter.format(self, object, context, maxlevels, level)\n",
    "\n",
    "def go_print( input ):\n",
    "    MyPrettyPrinter().pprint(input)\n",
    "    # ppp = pprint.PrettyPrinter(indent=4)\n",
    "    # ppp.pprint(input)\n",
    "    return;\n",
    "\n",
    "def get_midnight(time):\n",
    "    return time.replace(minute=0, hour=0, second=0, microsecond=0)\n",
    "\n",
    "def get_time_gap(time,hour_gap=1,min_gap=1):\n",
    "    h = time.hour\n",
    "    m = time.minute\n",
    "    o_h = h/hour_gap*hour_gap\n",
    "    o_m = m/min_gap*min_gap\n",
    "    return time.replace(hour=o_h, minute=o_m, second=0, microsecond=0)\n",
    "\n",
    "def get_week_year(time):\n",
    "    return tuple([time.isocalendar()[0], time.isocalendar()[1]])\n",
    "\n",
    "def get_thai_midnight(time):\n",
    "    out = time + datetime.timedelta(hours=7)\n",
    "    out = out.replace(minute=0, hour=0, second=0, microsecond=0) - datetime.timedelta(hours=7)\n",
    "    return out"
   ]
  },
  {
   "cell_type": "code",
   "execution_count": 4,
   "metadata": {},
   "outputs": [
    {
     "name": "stdout",
     "output_type": "stream",
     "text": [
      "{'entity_id': ['query', 'category'], 'RL2013D04E153': ['Bon Jovi', 'music'], 'RL2013D04E149': ['beatles', 'music'], 'RL2013D04E207': ['Britney Spears', 'music'], 'RL2013D04E169': ['Jennifer Lopez', 'music'], 'RL2013D04E164': ['Coldplay', 'music'], 'RL2013D03E093': ['Yale University', 'university'], 'RL2013D03E090': ['Princeton University', 'university'], 'RL2013D03E091': ['Columbia University', 'university'], 'RL2013D03E096': ['Johns Hopkins University', 'university'], 'RL2013D03E097': ['New York University', 'university'], 'RL2013D04E145': ['Adele', 'music'], 'RL2013D04E162': ['Maroon 5', 'music'], 'RL2013D02E063': ['Capital One', 'banking'], 'RL2013D02E060': ['PNC', 'banking'], 'RL2013D04E166': ['Lady Gaga', 'music'], 'RL2013D02E067': ['Banco Santander', 'banking'], 'RL2013D04E161': ['The wanted', 'music'], 'RL2013D02E068': ['Bankia', 'banking'], 'RL2013D04E185': ['Shakira', 'music'], 'RL2013D04E146': ['Alicia Keys', 'music'], 'RL2013D01E005': ['Toyota', 'automotive'], 'RL2013D01E003': ['Volvo', 'automotive'], 'RL2013D01E002': ['Audi', 'automotive'], 'RL2013D01E001': ['BMW', 'automotive'], 'RL2013D04E198': ['The Script', 'music'], 'RL2013D04E194': ['PSY', 'music'], 'RL2013D01E022': ['Ferrari', 'automotive'], 'RL2013D01E025': ['Bentley', 'automotive'], 'RL2013D01E009': ['Honda', 'automotive'], 'RL2013D01E008': ['Volkswagen', 'automotive'], 'RL2013D01E043': ['Jaguar', 'automotive'], 'RL2013D01E041': ['Ford', 'automotive'], 'RL2013D01E040': ['Kia', 'automotive'], 'RL2013D03E124': ['Oxford University', 'university'], 'RL2013D01E044': ['Lexus', 'automotive'], 'RL2013D03E089': ['MIT', 'university'], 'RL2013D03E088': ['Berkeley University', 'university'], 'RL2013D03E087': ['Stanford University', 'university'], 'RL2013D04E151': ['Led Zeppelin', 'music'], 'RL2013D04E152': ['Aerosmith', 'music'], 'RL2013D01E019': ['Subaru', 'automotive'], 'RL2013D02E057': ['Wells Fargo', 'banking'], 'RL2013D02E056': ['Bank of America', 'banking'], 'RL2013D02E055': ['HSBC', 'banking'], 'RL2013D02E054': ['Barclays', 'banking'], 'RL2013D04E159': ['AC/DC', 'music'], 'RL2013D02E051': ['RBS bank', 'banking'], 'RL2013D03E086': ['Harvard University', 'university'], 'RL2013D04E167': ['madonna', 'music'], 'RL2013D02E070': ['BBVA', 'banking'], 'RL2013D04E155': ['U2', 'music'], 'RL2013D02E076': ['Goldman Sachs', 'banking'], 'RL2013D04E206': ['Whitney Houston', 'music'], 'RL2013D04E175': ['Justin Bieber', 'music'], 'RL2013D01E012': ['Nissan', 'automotive'], 'RL2013D01E013': ['Fiat', 'automotive'], 'RL2013D01E014': ['Suzuki', 'automotive'], 'RL2013D01E015': ['Mazda', 'automotive'], 'RL2013D01E016': ['Chrysler', 'automotive'], 'RL2013D01E033': ['Porsche', 'automotive'], 'RL2013D01E035': ['Yamaha', 'automotive']}\n"
     ]
    }
   ],
   "source": [
    "f = open(\"replab2013_entities.tsv\",\"r\") #opens file with name of \"test.txt\"\n",
    "class_set = {}\n",
    "for line in f:\n",
    "    x = line.split('\\t')\n",
    "#     class_set.append( line)\n",
    "    class_set[ x[0].strip('\"') ] = [x[1].strip('\"'),x[3].strip('\"')] \n",
    "print class_set"
   ]
  },
  {
   "cell_type": "code",
   "execution_count": 11,
   "metadata": {},
   "outputs": [
    {
     "name": "stderr",
     "output_type": "stream",
     "text": [
      "[########################################################################] 100%\n",
      "[########################################################################] 100%\n"
     ]
    }
   ],
   "source": [
    "if __name__ == '__main__':\n",
    "    client = MongoClient()\n",
    "    db = client[db_name]\n",
    "\n",
    "    result = db[col_name].create_index([('ts', pymongo.ASCENDING)])\n",
    "    cursor = db[col_name].find({})\n",
    "\n",
    "    bar = progressbar.ProgressBar(maxval=cursor.count()+1, widgets=[progressbar.Bar('#', '[', ']'), ' ', progressbar.Percentage()])\n",
    "    bar.start()\n",
    "    data=1\n",
    "    topic_per_time = {}\n",
    "    for doc in cursor:\n",
    "        data += 1\n",
    "        bar.update(data)\n",
    "        ts = doc['ts']\n",
    "        entity_id = doc['entity_id']\n",
    "        topic = doc['topic']\n",
    "       \n",
    "        minor_class = class_set[entity_id][0]\n",
    "        \n",
    "        major_class = class_set[entity_id][1]\n",
    "        \n",
    "        db[col_name].update_one({'_id':doc['_id']},{\"$set\":{'major_class':major_class,'minor_class':minor_class}}, upsert=True)\n",
    "        \n",
    "        \n",
    "        datetime_object = datetime.datetime.fromtimestamp(ts)\n",
    "        time_gap = get_midnight(datetime_object)\n",
    "        \n",
    "        if not topic_per_time.has_key(time_gap):\n",
    "            topic_per_time[time_gap] = {}\n",
    "        if not topic_per_time[time_gap].has_key(topic):\n",
    "             topic_per_time[time_gap][topic] = 0\n",
    "        topic_per_time[time_gap][topic] += 1\n",
    "          \n",
    "    bar.finish()\n",
    "    \n",
    "    ignore_topics = ['picture','link']\n",
    "    \n",
    "    cursor = db[col_name].find({})\n",
    "\n",
    "    bar = progressbar.ProgressBar(maxval=cursor.count()+1, widgets=[progressbar.Bar('#', '[', ']'), ' ', progressbar.Percentage()])\n",
    "    bar.start()\n",
    "    data=1\n",
    "    for doc in cursor:\n",
    "        data += 1\n",
    "        bar.update(data)\n",
    "        ts = doc['ts']\n",
    "        entity_id = doc['entity_id']\n",
    "        topic = doc['topic']\n",
    "        \n",
    "        datetime_object = datetime.datetime.fromtimestamp(ts)\n",
    "        time_gap = get_midnight(datetime_object)\n",
    "        \n",
    "        topic_dense = 0\n",
    "        topic_l = topic.lower()\n",
    "        check = True\n",
    "        if topic =='':\n",
    "            check = False\n",
    "        for ignore in ignore_topics:\n",
    "            if ignore in topic_l:\n",
    "                check = False\n",
    "        if topic_per_time[time_gap][topic] >= 3 and check:\n",
    "            topic_dense = 1\n",
    "        db[col_name].update_one({'_id':doc['_id']},{\"$set\":{'topic_dense':topic_dense}}, upsert=True)\n",
    "    bar.finish()\n",
    "#     print len(date)"
   ]
  },
  {
   "cell_type": "code",
   "execution_count": 8,
   "metadata": {},
   "outputs": [
    {
     "data": {
      "text/plain": [
       "True"
      ]
     },
     "execution_count": 8,
     "metadata": {},
     "output_type": "execute_result"
    }
   ],
   "source": [
    "ignore_topic = ['','picture','link']\n",
    "ignore_topic[2] in 'Web links to Britney'"
   ]
  },
  {
   "cell_type": "code",
   "execution_count": null,
   "metadata": {},
   "outputs": [],
   "source": [
    "str = \"0000000this is string example....wow!!!0000000\";\n",
    "print str.strip( '0' )"
   ]
  },
  {
   "cell_type": "code",
   "execution_count": null,
   "metadata": {},
   "outputs": [],
   "source": []
  },
  {
   "cell_type": "code",
   "execution_count": null,
   "metadata": {},
   "outputs": [],
   "source": [
    "# class_set = [\n",
    "#     [\"RL2013D01E001\",\"BMW\",\"automotive\"],\n",
    "#     [\"RL2013D01E002\",\"Audi\",\"automotive\"],\n",
    "#     [\"RL2013D01E003\",\"Volvo\",\"automotive\"],\n",
    "#     [\"RL2013D01E005\",\"Toyota\",\"automotive\"],\n",
    "#     [\"RL2013D01E008\",\"Volkswagen\",\"automotive\"],\n",
    "#     [\"RL2013D01E009\",\"Honda\",\"automotive\"],\n",
    "#     [\"RL2013D01E012\",\"Nissan\",\"automotive\"],\n",
    "#     [\"RL2013D01E013\",\"Fiat\",\"automotive\"],\n",
    "#     [\"RL2013D01E014\",\"Suzuki\",\"automotive\"],\n",
    "#     [\"RL2013D01E015\",\"Mazda\",\"automotive\"],\n",
    "#     [\"RL2013D01E016\",\"Chrysler\",\"automotive\"],\n",
    "#     [\"RL2013D01E019\",\"Subaru\",\"automotive\"],\n",
    "#     [\"RL2013D01E022\",\"Ferrari\",\"automotive\"],\n",
    "#     [\"RL2013D01E025\",\"Bentley\",\"automotive\"],\n",
    "#     [\"RL2013D01E033\",\"Porsche\",\"automotive\"],\n",
    "#     [\"RL2013D01E035\",\"Yamaha\",\"automotive\"],\n",
    "#     [\"RL2013D01E040\",\"Kia\",\"automotive\"],\n",
    "#     [\"RL2013D01E041\",\"Ford\",\"automotive\"],\n",
    "#     [\"RL2013D01E043\",\"Jaguar\",\"automotive\"],\n",
    "#     [\"RL2013D01E044\",\"Lexus\",\"automotive\"],\n",
    "#     [\"RL2013D02E051\",\"RBS bank\",\"banking\"],\n",
    "#     [\"RL2013D02E054\",\"Barclays\",\"banking\"],\n",
    "#     [\"RL2013D02E055\",\"HSBC\",\"banking\"],\n",
    "#     [\"RL2013D02E056\",\"Bank of America\",\"banking\"],\n",
    "#     [\"RL2013D02E057\",\"Wells Fargo\",\"banking\"]\n",
    "#     [\"RL2013D02E060\",\"PNC\",\"banking\"],\n",
    "#     [\"RL2013D02E063\",\"\"\"Capital One\"\"\",\"banking\"],\n",
    "#     [\"RL2013D02E067\",\"Banco Santander\",\"banking\"],\n",
    "#     [\"RL2013D02E068\",\"Bankia\",\"banking\"],\n",
    "#     [\"RL2013D02E070\",\"BBVA\",\"banking\"],\n",
    "#     [\"RL2013D02E076\",\"Goldman Sachs\",\"banking\"],\n",
    "#     [\"RL2013D03E086\",\"Harvard University\",\"university\"],\n",
    "#     [\"RL2013D03E087\",\"Stanford University\",\"university\"],\n",
    "#     [\"RL2013D03E088\",\"Berkeley University\",\"university\"],\n",
    "#     [\"RL2013D03E089\",\"MIT\",\"university\"],\n",
    "#     [\"RL2013D03E090\",\"Princeton University\",\"university\"],\n",
    "#     [\"RL2013D03E091\",\"Columbia University\",\"university\"],\n",
    "#     [\"RL2013D03E093\",\"Yale University\",\"university\"],\n",
    "#     [\"RL2013D03E096\",\"Johns Hopkins University\",\"university\"],\n",
    "#     [\"RL2013D03E097\",\"New York University\",\"university\"],\n",
    "#     [\"RL2013D03E124\",\"Oxford University\",\"university\"],\n",
    "#     [\"RL2013D04E145\",\"Adele\",\"music\"],\n",
    "#     [\"RL2013D04E146\",\"Alicia Keys\",\"music\"],\n",
    "#     [\"RL2013D04E149\",\"beatles\",\"music\"],\n",
    "#     [\"RL2013D04E151\",\"Led Zeppelin\",\"music\"],\n",
    "#     [\"RL2013D04E152\",\"Aerosmith\",\"music\"],\n",
    "#     [\"RL2013D04E153\",\"Bon Jovi\",\"music\"],\n",
    "#     [\"RL2013D04E155\",\"U2\",\"music\"],\n",
    "#     [\"RL2013D04E159\",\"AC/DC\",\"music\"],\n",
    "#     [\"RL2013D04E161\",\"The wanted\",\"music\"],\n",
    "#     [\"RL2013D04E162\",\"Maroon 5\",\"music\"],\n",
    "#     [\"RL2013D04E164\",\"Coldplay\",\"music\"],\n",
    "#     [\"RL2013D04E166\",\"Lady Gaga\",\"music\"],\n",
    "#     [\"RL2013D04E167\",\"madonna\",\"music\"],\n",
    "#     [\"RL2013D04E169\",\"Jennifer Lopez\",\"music\"],\n",
    "#     [\"RL2013D04E175\",\"Justin Bieber\",\"music\"],\n",
    "#     [\"RL2013D04E185\",\"Shakira\",\"music\"],\n",
    "#     [\"RL2013D04E194\",\"PSY\",\"music\"],\n",
    "#     [\"RL2013D04E198\",\"The Script\",\"music\"],\n",
    "#     [\"RL2013D04E206\",\"Whitney Houston\",\"music\"],\n",
    "#     [\"RL2013D04E207\",\"Britney Spears\",\"music\"]\n",
    "# ]"
   ]
  }
 ],
 "metadata": {
  "kernelspec": {
   "display_name": "Python 2",
   "language": "python",
   "name": "python2"
  },
  "language_info": {
   "codemirror_mode": {
    "name": "ipython",
    "version": 2
   },
   "file_extension": ".py",
   "mimetype": "text/x-python",
   "name": "python",
   "nbconvert_exporter": "python",
   "pygments_lexer": "ipython2",
   "version": "2.7.13"
  }
 },
 "nbformat": 4,
 "nbformat_minor": 2
}
