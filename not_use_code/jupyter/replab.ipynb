{
 "cells": [
  {
   "cell_type": "code",
   "execution_count": 1,
   "metadata": {},
   "outputs": [],
   "source": [
    "#! python2\n",
    "# -*- coding: utf-8 -*-\n",
    "import pprint\n",
    "import pymongo\n",
    "import datetime\n",
    "import numpy as np\n",
    "from pymongo import MongoClient\n",
    "\n",
    "from scipy import spatial\n",
    "\n",
    "import pylab\n",
    "\n",
    "import os\n",
    "\n",
    "import progressbar\n",
    "\n",
    "db_name = 'twitter'\n",
    "col_name = 'after_process'"
   ]
  },
  {
   "cell_type": "code",
   "execution_count": 2,
   "metadata": {},
   "outputs": [],
   "source": [
    "from sklearn import metrics\n",
    "from sklearn.cluster import DBSCAN\n",
    "# from sklearn.datasets.samples_generator import make_blobs\n",
    "from sklearn.preprocessing import StandardScaler\n",
    "from sklearn.feature_extraction.text import TfidfVectorizer, CountVectorizer\n",
    "from sklearn.decomposition import LatentDirichletAllocation, NMF\n",
    "from sklearn.metrics.pairwise import cosine_similarity\n",
    "\n",
    "from igraph import *\n",
    "import igraph\n",
    "import math\n",
    "from operator import itemgetter\n",
    "\n"
   ]
  },
  {
   "cell_type": "code",
   "execution_count": 3,
   "metadata": {},
   "outputs": [
    {
     "name": "stderr",
     "output_type": "stream",
     "text": [
      "[                                                                        ]   0%\r"
     ]
    },
    {
     "ename": "KeyError",
     "evalue": "'timestamp'",
     "output_type": "error",
     "traceback": [
      "\u001b[1;31m---------------------------------------------------------------------------\u001b[0m",
      "\u001b[1;31mKeyError\u001b[0m                                  Traceback (most recent call last)",
      "\u001b[1;32m<ipython-input-3-93c7cb24333c>\u001b[0m in \u001b[0;36m<module>\u001b[1;34m()\u001b[0m\n\u001b[0;32m     13\u001b[0m         \u001b[0mbar\u001b[0m\u001b[1;33m.\u001b[0m\u001b[0mupdate\u001b[0m\u001b[1;33m(\u001b[0m\u001b[0mdata\u001b[0m\u001b[1;33m)\u001b[0m\u001b[1;33m\u001b[0m\u001b[0m\n\u001b[0;32m     14\u001b[0m \u001b[1;33m\u001b[0m\u001b[0m\n\u001b[1;32m---> 15\u001b[1;33m         \u001b[0mts\u001b[0m \u001b[1;33m=\u001b[0m \u001b[0mlong\u001b[0m\u001b[1;33m(\u001b[0m\u001b[0mdoc\u001b[0m\u001b[1;33m[\u001b[0m\u001b[1;34m'timestamp'\u001b[0m\u001b[1;33m]\u001b[0m\u001b[1;33m)\u001b[0m\u001b[1;33m\u001b[0m\u001b[0m\n\u001b[0m\u001b[0;32m     16\u001b[0m         \u001b[0mdb\u001b[0m\u001b[1;33m[\u001b[0m\u001b[1;34m'replab'\u001b[0m\u001b[1;33m]\u001b[0m\u001b[1;33m.\u001b[0m\u001b[0mupdate\u001b[0m\u001b[1;33m(\u001b[0m\u001b[1;33m{\u001b[0m\u001b[1;34m'_id'\u001b[0m\u001b[1;33m:\u001b[0m\u001b[0mdoc\u001b[0m\u001b[1;33m[\u001b[0m\u001b[1;34m'_id'\u001b[0m\u001b[1;33m]\u001b[0m\u001b[1;33m}\u001b[0m\u001b[1;33m,\u001b[0m\u001b[1;33m{\u001b[0m\u001b[1;34m\"$set\"\u001b[0m\u001b[1;33m:\u001b[0m\u001b[1;33m{\u001b[0m\u001b[1;34m'ts'\u001b[0m\u001b[1;33m:\u001b[0m\u001b[0mts\u001b[0m\u001b[1;33m}\u001b[0m\u001b[1;33m}\u001b[0m\u001b[1;33m,\u001b[0m \u001b[0mupsert\u001b[0m\u001b[1;33m=\u001b[0m\u001b[0mTrue\u001b[0m\u001b[1;33m)\u001b[0m\u001b[1;33m\u001b[0m\u001b[0m\n\u001b[0;32m     17\u001b[0m     \u001b[0mbar\u001b[0m\u001b[1;33m.\u001b[0m\u001b[0mfinish\u001b[0m\u001b[1;33m(\u001b[0m\u001b[1;33m)\u001b[0m\u001b[1;33m\u001b[0m\u001b[0m\n",
      "\u001b[1;31mKeyError\u001b[0m: 'timestamp'"
     ]
    }
   ],
   "source": [
    "if __name__ == '__main__':\n",
    "    client = MongoClient()\n",
    "    db = client[db_name]\n",
    "\n",
    "    result = db[col_name].create_index([('ts', pymongo.ASCENDING)])\n",
    "    cursor = db[col_name].find({})\n",
    "\n",
    "    bar = progressbar.ProgressBar(maxval=cursor.count()+1, widgets=[progressbar.Bar('#', '[', ']'), ' ', progressbar.Percentage()])\n",
    "    bar.start()\n",
    "    data=1\n",
    "    for doc in cursor:\n",
    "        data += 1\n",
    "        bar.update(data)\n",
    "        \n",
    "        ts = long(doc['timestamp'])\n",
    "        db['replab'].update({'_id':doc['_id']},{\"$set\":{'ts':ts}}, upsert=True)\n",
    "    bar.finish()\n",
    "#     print len(date)"
   ]
  },
  {
   "cell_type": "code",
   "execution_count": null,
   "metadata": {},
   "outputs": [],
   "source": [
    "class MyPrettyPrinter(pprint.PrettyPrinter):\n",
    "    def format(self, object, context, maxlevels, level):\n",
    "        if isinstance(object, unicode):\n",
    "            return (object.encode('thai'), True, False)\n",
    "        return pprint.PrettyPrinter.format(self, object, context, maxlevels, level)\n",
    "\n",
    "def go_print( input ):\n",
    "    MyPrettyPrinter().pprint(input)\n",
    "    # ppp = pprint.PrettyPrinter(indent=4)\n",
    "    # ppp.pprint(input)\n",
    "    return;\n",
    "\n",
    "def get_midnight(time):\n",
    "    return time.replace(minute=0, hour=0, second=0, microsecond=0)\n",
    "\n",
    "def get_thai_midnight(time):\n",
    "    out = time + datetime.timedelta(hours=7)\n",
    "    out = out.replace(minute=0, hour=0, second=0, microsecond=0) - datetime.timedelta(hours=7)\n",
    "    return out"
   ]
  },
  {
   "cell_type": "code",
   "execution_count": null,
   "metadata": {},
   "outputs": [],
   "source": [
    "if __name__ == '__main__':\n",
    "    client = MongoClient()\n",
    "    db = client[db_name]\n",
    "\n",
    "    result = db[col_name].create_index([('ts', pymongo.ASCENDING)])\n",
    "    cursor = db[col_name].find({}).sort([('ts', pymongo.ASCENDING)])\n",
    "    \n",
    "\n",
    "    date = []\n",
    "    text = []\n",
    "    text_2 = []\n",
    "    all_doc = []\n",
    "\n",
    "    bar = progressbar.ProgressBar(maxval=cursor.count()+1, widgets=[progressbar.Bar('#', '[', ']'), ' ', progressbar.Percentage()])\n",
    "    bar.start()\n",
    "    data=1\n",
    "    for doc in cursor:\n",
    "        data += 1\n",
    "        bar.update(data)\n",
    "        \n",
    "        ts = doc['ts']\n",
    "        datetime_object = datetime.datetime.fromtimestamp(ts/1000)\n",
    "        if True:\n",
    "#         if len(doc['hashtags']) != 0:\n",
    "            buf = doc['nouns']\n",
    "            buf_2 = doc['nouns_nltk']\n",
    "            for x in doc['hashtags']:\n",
    "                if not x.lower() in buf:\n",
    "                    buf.append(x.lower())\n",
    "                if not x.lower() in buf_2:\n",
    "                    buf_2.append(x.lower())\n",
    "            all_doc.append(doc)\n",
    "            date.append(datetime_object)\n",
    "            text.append(' '.join(buf))\n",
    "            text_2.append(' '.join(buf_2))\n",
    "    bar.finish()\n",
    "#     print len(date)"
   ]
  },
  {
   "cell_type": "code",
   "execution_count": null,
   "metadata": {},
   "outputs": [],
   "source": [
    "def two_str(num):\n",
    "    if num < 10:\n",
    "        return str(0)+str(num)\n",
    "    else:\n",
    "        return str(num)"
   ]
  },
  {
   "cell_type": "code",
   "execution_count": null,
   "metadata": {
    "scrolled": true
   },
   "outputs": [],
   "source": [
    "#time_gap <= 60\n",
    "def split_time_gap(date,text,all_doc,time_gap):\n",
    "    s_text = {}\n",
    "    s_all_doc = {}\n",
    "    for datetime_object in date:\n",
    "        i = date.index(datetime_object)\n",
    "        m = datetime_object.minute\n",
    "        h = datetime_object.hour\n",
    "        d = datetime_object.day\n",
    "        key = two_str(d)+'/'+two_str(datetime_object.month)+'::'+two_str(h)+'.'+two_str((m/time_gap)*time_gap)\n",
    "        if not s_text.has_key(key):\n",
    "            s_text[key] = []\n",
    "            s_all_doc[key] = []\n",
    "        s_text[key].append(text[i])\n",
    "        s_all_doc[key].append(all_doc[i])\n",
    "    return s_text,s_all_doc\n",
    "s_text,s_all_doc = split_time_gap(date,text,all_doc,60)\n",
    "s_text_2,s_all_doc = split_time_gap(date,text_2,all_doc,60)"
   ]
  },
  {
   "cell_type": "code",
   "execution_count": null,
   "metadata": {},
   "outputs": [],
   "source": []
  },
  {
   "cell_type": "code",
   "execution_count": null,
   "metadata": {},
   "outputs": [],
   "source": [
    "from math import *\n",
    "import operator as op\n",
    "import itertools\n",
    "\n",
    "L = dict() # Lattice\n",
    "Lkey = dict() # Key of each itemset\n",
    "X = 0\n",
    "N = 0\n",
    "\n",
    "for c in range(100):\n",
    "    L[c] = dict()\n",
    "    Lkey[c] = dict()"
   ]
  },
  {
   "cell_type": "code",
   "execution_count": null,
   "metadata": {},
   "outputs": [],
   "source": [
    "#  n เลือก r ไม่สนลำดับ\n",
    "def nCr(n, r):\n",
    "    if n < r: return 0\n",
    "    r = min(r, n-r)\n",
    "    if r == 0: return 1\n",
    "    numer = reduce(op.mul, range(n, n-r, -1))\n",
    "    denom = reduce(op.mul, range(1, r+1))\n",
    "    return numer//denom"
   ]
  },
  {
   "cell_type": "code",
   "execution_count": null,
   "metadata": {},
   "outputs": [],
   "source": [
    "def streamMining(stream, theta, epsilon):\n",
    "    global L, Lkey\n",
    "    for c in range(100):\n",
    "        L[c] = dict()\n",
    "        Lkey[c] = dict()\n",
    "    X = 0\n",
    "    N = 0\n",
    "    print(\"Run streamMining\")\n",
    "    T = list() # Buffer\n",
    "    f = 0 # Average 2-itemsets per transaction\n",
    "    c = 0 # Number of call -> reducFreq\n",
    "    for t in stream:\n",
    "        T.append(t)\n",
    "        update(t, 1)\n",
    "        update(t, 2)\n",
    "        f = twoItemsetPerTransaction(t)\n",
    "        if len(L[2]) >= ceil(1/(theta*epsilon)) * f:\n",
    "            reducFreq(2)\n",
    "            c += 1\n",
    "            i = 2\n",
    "            while len(L[i]) != 0:\n",
    "                i += 1\n",
    "                for tp in T:\n",
    "                    if len(tp) >= i:\n",
    "                        update(tp, i)\n",
    "                reducFreq(i)\n",
    "            for ii in range(i,100):\n",
    "                L[ii] = dict()\n",
    "                Lkey[ii] = dict()\n",
    "            T = list()\n",
    "    for k,v in L.items():\n",
    "        sorted_v = sorted(v.items(), key=operator.itemgetter(1), reverse=True)\n",
    "        L[k] = sorted_v\n",
    "    return L"
   ]
  },
  {
   "cell_type": "code",
   "execution_count": null,
   "metadata": {},
   "outputs": [],
   "source": [
    "def twoItemsetPerTransaction(t):\n",
    "    global X, N\n",
    "    f = 0\n",
    "    N += 1\n",
    "    X += nCr(len(t), 2)\n",
    "    f = ceil(X/N)\n",
    "    return f"
   ]
  },
  {
   "cell_type": "code",
   "execution_count": null,
   "metadata": {},
   "outputs": [],
   "source": [
    "def update(t, i):\n",
    "    global L, Lkey\n",
    "    itemsets = createItemsets(t, i)\n",
    "\n",
    "    for s in itemsets:\n",
    "        if len(set(s)) != i:\n",
    "            continue\n",
    "        if s in L[i]:\n",
    "            L[i][s] += 1\n",
    "        elif i <= 2:\n",
    "            L[i][s] = 1\n",
    "        elif i > 2:\n",
    "            mini_itemsets = createItemsets(s, i-1)\n",
    "            chk = True\n",
    "            for mini in mini_itemsets:\n",
    "                if mini not in L[i-1]:\n",
    "                    chk = False\n",
    "                    break\n",
    "            if chk:\n",
    "                L[i][s] = 1"
   ]
  },
  {
   "cell_type": "code",
   "execution_count": null,
   "metadata": {},
   "outputs": [],
   "source": [
    "def reducFreq(i):\n",
    "    global L\n",
    "    remove = list()\n",
    "    for s in L[i]:\n",
    "        L[i][s] -= 1\n",
    "        if L[i][s] <= 0:\n",
    "            remove.append(s)\n",
    "    for r in remove:\n",
    "        del L[i][r]"
   ]
  },
  {
   "cell_type": "code",
   "execution_count": null,
   "metadata": {},
   "outputs": [],
   "source": [
    "def createItemsets(t, i):\n",
    "    return tuple(map( lambda w: tuple(sorted(w)), list(itertools.combinations(t, i)) ) )"
   ]
  },
  {
   "cell_type": "code",
   "execution_count": null,
   "metadata": {},
   "outputs": [],
   "source": []
  },
  {
   "cell_type": "code",
   "execution_count": null,
   "metadata": {},
   "outputs": [],
   "source": []
  },
  {
   "cell_type": "code",
   "execution_count": null,
   "metadata": {
    "scrolled": true
   },
   "outputs": [],
   "source": [
    "output= {}\n",
    "for k,v in s_text.items():\n",
    "    sample = v\n",
    "    sample_doc = s_all_doc[k]\n",
    "\n",
    "    x = streamMining(map( lambda w: w.split(' '), sample ),0.01,0.01)\n",
    "    \n",
    "    output[k] = x.copy()"
   ]
  },
  {
   "cell_type": "code",
   "execution_count": null,
   "metadata": {},
   "outputs": [],
   "source": [
    "#     output_text \n",
    "#     output_nouns \n",
    "#     out_nmf \n",
    "#     out_lda \n",
    "for k,v in sorted(output.items()):\n",
    "    print '------' ,k, '-----'\n",
    "    try:\n",
    "        \n",
    "        for data in v.values():\n",
    "            remain = 15\n",
    "            for top in data:\n",
    "                print top\n",
    "                remain -= 1\n",
    "                if remain == 0:\n",
    "                    break\n",
    "    except :\n",
    "        pass\n",
    "    "
   ]
  },
  {
   "cell_type": "code",
   "execution_count": null,
   "metadata": {},
   "outputs": [],
   "source": [
    "output_2= {}\n",
    "for k,v in s_text_2.items():\n",
    "    sample = v\n",
    "    sample_doc = s_all_doc[k]\n",
    "\n",
    "    x = streamMining(map( lambda w: w.split(' '), sample ),0.01,0.01)\n",
    "    \n",
    "    output_2[k] = x.copy()"
   ]
  },
  {
   "cell_type": "code",
   "execution_count": null,
   "metadata": {},
   "outputs": [],
   "source": [
    "#     output_text \n",
    "#     output_nouns \n",
    "#     out_nmf \n",
    "#     out_lda \n",
    "for k,v in sorted(output_2.items()):\n",
    "    print '------' ,k, '-----'\n",
    "    try:\n",
    "        for data in v.values():\n",
    "            remain = 15\n",
    "            for top in data:\n",
    "                print top\n",
    "                remain -= 1\n",
    "                if remain == 0:\n",
    "                    break\n",
    "    except :\n",
    "        pass\n",
    "    "
   ]
  }
 ],
 "metadata": {
  "kernelspec": {
   "display_name": "Python 2",
   "language": "python",
   "name": "python2"
  },
  "language_info": {
   "codemirror_mode": {
    "name": "ipython",
    "version": 2
   },
   "file_extension": ".py",
   "mimetype": "text/x-python",
   "name": "python",
   "nbconvert_exporter": "python",
   "pygments_lexer": "ipython2",
   "version": "2.7.13"
  }
 },
 "nbformat": 4,
 "nbformat_minor": 2
}
